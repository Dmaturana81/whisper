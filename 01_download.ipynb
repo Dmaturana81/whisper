{
 "cells": [
  {
   "cell_type": "code",
   "execution_count": null,
   "id": "85e9a80c-947b-4de9-9a6d-21e7708ab77b",
   "metadata": {},
   "outputs": [],
   "source": [
    "import os\n",
    "from pytube import YouTube, Playlist\n",
    "from tqdm.notebook import tqdm\n",
    "from typing import Union\n",
    "from pathlib import Path"
   ]
  },
  {
   "cell_type": "code",
   "execution_count": null,
   "id": "817e03cd-4a42-44dc-b8c3-764b8436c110",
   "metadata": {},
   "outputs": [],
   "source": [
    "import re\n",
    "def to_snake_case(name):\n",
    "    return name.lower().replace(\" \", \"_\").replace(\":\", \"_\").replace(\"__\", \"_\")"
   ]
  },
  {
   "cell_type": "code",
   "execution_count": null,
   "id": "d1def169-183e-4b19-85b9-c618e546d912",
   "metadata": {},
   "outputs": [],
   "source": [
    "def load_video(url, **kwargs):\n",
    "    \"\"\"Function to load youtube video\"\"\"\n",
    "    return YouTube(url, **kwargs)"
   ]
  },
  {
   "cell_type": "code",
   "execution_count": null,
   "id": "34fd7948-3fc2-4bc5-a927-bc5533e50845",
   "metadata": {},
   "outputs": [],
   "source": [
    "def download_youtube_audio(url, out_dir=\".\", out_fname=None, best_quality=True):\n",
    "    \"Download the audio from a YouTube video\"\n",
    "    yt = load_video(url)\n",
    "    if out_fname is None:\n",
    "        out_fname = os.path.join(out_dir, to_snake_case(yt.title) + \".mp4\")\n",
    "    yt = (yt.streams\n",
    "            .filter(only_audio=True, file_extension=\"mp4\")\n",
    "            .order_by(\"abr\"))\n",
    "    if best_quality:\n",
    "        yt = yt.desc()\n",
    "    else:\n",
    "        yt = yt.asc()\n",
    "    return yt.first().download(filename=out_fname)"
   ]
  },
  {
   "cell_type": "code",
   "execution_count": null,
   "id": "8527e292-4d2c-4733-b746-60eaab2ccbf4",
   "metadata": {},
   "outputs": [],
   "source": [
    "url = \"https://www.youtube.com/watch?v=RyLHtphyHR4\""
   ]
  },
  {
   "cell_type": "code",
   "execution_count": null,
   "id": "70850a77-e69f-4650-9983-377cddaab071",
   "metadata": {},
   "outputs": [
    {
     "data": {
      "text/plain": [
       "'/Volumes/Users/matu/Documents/Xcode/whisper/Bruna_bloginha.mp3'"
      ]
     },
     "execution_count": null,
     "metadata": {},
     "output_type": "execute_result"
    }
   ],
   "source": [
    "download_youtube_audio(url, out_fname='Bruna_bloginha.mp3')"
   ]
  },
  {
   "cell_type": "code",
   "execution_count": null,
   "id": "6725875b-bd21-41ad-889b-63923a335a61",
   "metadata": {},
   "outputs": [],
   "source": [
    "def download_youtube_subtitles(url, out_dir=\".\", out_fname=None, best_quality=True):\n",
    "    \"Download the audio from a YouTube video\"\n",
    "    yt = load_video(url)\n",
    "    if out_fname is None:\n",
    "        out_fname = os.path.join(out_dir, to_snake_case(yt.title) + \".srt\")\n",
    "    srt = yt.captions.all()\n",
    "    return srt"
   ]
  },
  {
   "cell_type": "code",
   "execution_count": null,
   "id": "117e5d7b-ad93-40d7-8583-f33155f8bef5",
   "metadata": {},
   "outputs": [
    {
     "name": "stderr",
     "output_type": "stream",
     "text": [
      "/var/folders/8v/lv57p6414hxgcf89_gbsg4f00000gn/T/ipykernel_1055/1935201023.py:6: DeprecationWarning: Call to deprecated function all (This object can be treated as a dictionary).\n",
      "  srt = yt.captions.all()\n"
     ]
    },
    {
     "data": {
      "text/plain": [
       "[]"
      ]
     },
     "execution_count": null,
     "metadata": {},
     "output_type": "execute_result"
    }
   ],
   "source": [
    "download_youtube_subtitles(url, out_fname=\"Bruna.srt\")"
   ]
  },
  {
   "cell_type": "code",
   "execution_count": null,
   "id": "c15d2cf9-7b7c-42cc-8537-0d0533f8a368",
   "metadata": {},
   "outputs": [],
   "source": [
    "yt = YouTube(url, use_oauth=True, allow_oauth_cache=True)"
   ]
  },
  {
   "cell_type": "code",
   "execution_count": null,
   "id": "b69a79b2-eda3-4fcb-aad4-9b7db4be5c4e",
   "metadata": {},
   "outputs": [
    {
     "name": "stderr",
     "output_type": "stream",
     "text": [
      "/var/folders/8v/lv57p6414hxgcf89_gbsg4f00000gn/T/ipykernel_1055/3614318295.py:1: DeprecationWarning: Call to deprecated function all (This object can be treated as a dictionary).\n",
      "  srt = yt.captions.all()\n"
     ]
    }
   ],
   "source": [
    "srt = yt.captions.all()"
   ]
  },
  {
   "cell_type": "code",
   "execution_count": null,
   "id": "07ef1f9f-3986-4a3b-a58f-1e41a7057a35",
   "metadata": {},
   "outputs": [
    {
     "data": {
      "text/plain": [
       "'/Volumes/Users/matu/Documents/Xcode/whisper/bruna (a.pt).xml'"
      ]
     },
     "execution_count": null,
     "metadata": {},
     "output_type": "execute_result"
    }
   ],
   "source": [
    "srt[0].download('bruna',srt=False)"
   ]
  },
  {
   "cell_type": "code",
   "execution_count": null,
   "id": "aa2c943c-44ee-43ab-855a-67d2482e9f14",
   "metadata": {},
   "outputs": [],
   "source": [
    "json_capt = srt[0].json_captions"
   ]
  },
  {
   "cell_type": "code",
   "execution_count": null,
   "id": "27cea749-b1c0-42c5-9388-1bd3b651884f",
   "metadata": {},
   "outputs": [],
   "source": [
    "xml_cap = srt[0].xml_captions"
   ]
  },
  {
   "cell_type": "code",
   "execution_count": null,
   "id": "8cf03985-5e6a-4c1b-99b8-39ed01fe9390",
   "metadata": {},
   "outputs": [],
   "source": [
    "import json"
   ]
  },
  {
   "cell_type": "code",
   "execution_count": null,
   "id": "bdf1c1ed-737a-4999-b631-80e445165d4d",
   "metadata": {},
   "outputs": [],
   "source": [
    "def save_list(in_file:Union[str,Path], out_dir:str = './',out_fname:[str]=None, best_quality:bool=True):\n",
    "    \"\"\"Function to download sound and captions from a list of youtube videos\"\"\"\n",
    "    in_file = in_file if isinstance(in_file, Path) else Path(in_file)\n",
    "    if not in_file.exists():\n",
    "        print(f\"File {in_file} does not exist\")\n",
    "    with open(in_file,'r') as infile:\n",
    "        urls = infile.readlines()\n",
    "    for url in urls:\n",
    "        yt = load_video(url)\n",
    "        if out_fname is None:\n",
    "            out_fname = os.path.join(out_dir, to_snake_case(yt.title) + \".mp4\")\n",
    "        vid = (yt.streams\n",
    "                    .filter(only_audio=True, file_extension=\"mp4\")\n",
    "                    .order_by(\"abr\"))\n",
    "        if best_quality:\n",
    "            vid = vid.desc()\n",
    "        else:\n",
    "            vid = vid.asc()\n",
    "        vid.first().download(filename=out_fname)\n",
    "        out_cap = out_fname + \".srt\"\n",
    "        srt = yt.captions.all();\n",
    "        try:\n",
    "            srt[0].download(out_cap)\n",
    "        except:\n",
    "            json_cap = srt[0].json_captions\n",
    "            with open(out_cap,'w') as capout:\n",
    "                capout.write(json.dumps(json_cap))\n",
    "    return \n"
   ]
  },
  {
   "cell_type": "code",
   "execution_count": null,
   "id": "475e97e7-b5a5-4211-a05f-5e13710b8856",
   "metadata": {},
   "outputs": [
    {
     "name": "stderr",
     "output_type": "stream",
     "text": [
      "/var/folders/8v/lv57p6414hxgcf89_gbsg4f00000gn/T/ipykernel_1055/991967986.py:21: DeprecationWarning: Call to deprecated function all (This object can be treated as a dictionary).\n",
      "  srt = yt.captions.all();\n",
      "/var/folders/8v/lv57p6414hxgcf89_gbsg4f00000gn/T/ipykernel_1055/991967986.py:21: DeprecationWarning: Call to deprecated function all (This object can be treated as a dictionary).\n",
      "  srt = yt.captions.all();\n",
      "/var/folders/8v/lv57p6414hxgcf89_gbsg4f00000gn/T/ipykernel_1055/991967986.py:21: DeprecationWarning: Call to deprecated function all (This object can be treated as a dictionary).\n",
      "  srt = yt.captions.all();\n",
      "/var/folders/8v/lv57p6414hxgcf89_gbsg4f00000gn/T/ipykernel_1055/991967986.py:21: DeprecationWarning: Call to deprecated function all (This object can be treated as a dictionary).\n",
      "  srt = yt.captions.all();\n"
     ]
    }
   ],
   "source": [
    "save_list('./url_list_bruna.txt')"
   ]
  },
  {
   "cell_type": "code",
   "execution_count": null,
   "id": "ef76daf9-b558-47be-9288-936a3fea48ee",
   "metadata": {},
   "outputs": [
    {
     "data": {
      "application/vnd.jupyter.widget-view+json": {
       "model_id": "583fa90520824adfbcb11da32f8c5280",
       "version_major": 2,
       "version_minor": 0
      },
      "text/plain": [
       "  0%|          | 0/8 [00:00<?, ?it/s]"
      ]
     },
     "metadata": {},
     "output_type": "display_data"
    }
   ],
   "source": [
    "for url in tqdm(playlist):\n",
    "    download_youtube_audio(url, out_dir=\"fastai_transcripts\")"
   ]
  },
  {
   "cell_type": "code",
   "execution_count": null,
   "id": "152caffc-73e9-4712-9d29-4d66b882cb27",
   "metadata": {},
   "outputs": [
    {
     "data": {
      "text/plain": [
       "'/home/tcapelle/wandb/whisper/pastry.mp4'"
      ]
     },
     "execution_count": null,
     "metadata": {},
     "output_type": "execute_result"
    }
   ],
   "source": [
    "download_youtube_audio(\"https://www.youtube.com/watch?v=Gh2HnhO2JS0\", out_fname=\"pastry.mp4\")"
   ]
  },
  {
   "cell_type": "code",
   "execution_count": null,
   "id": "94961c61-e217-445f-8f85-6df0b75e9002",
   "metadata": {},
   "outputs": [],
   "source": []
  }
 ],
 "metadata": {
  "kernelspec": {
   "display_name": "whisper",
   "language": "python",
   "name": "whisper"
  }
 },
 "nbformat": 4,
 "nbformat_minor": 5
}

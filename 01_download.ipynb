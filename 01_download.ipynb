{
 "cells": [
  {
   "cell_type": "code",
   "execution_count": null,
   "id": "01f1a714-7532-4f65-9517-505a16320d4c",
   "metadata": {},
   "outputs": [],
   "source": [
    "import os\n",
    "from pytube import YouTube, Playlist\n",
    "import webvtt  \n",
    "from fastcore.all import *\n",
    "from tqdm.notebook import tqdm\n",
    "import pandas as pd"
   ]
  },
  {
   "cell_type": "code",
   "execution_count": null,
   "id": "817e03cd-4a42-44dc-b8c3-764b8436c110",
   "metadata": {},
   "outputs": [],
   "source": [
    "import re\n",
    "def to_snake_case(name):\n",
    "    return name.lower().replace(\" \", \"_\").replace(\":\", \"_\").replace(\"__\", \"_\")"
   ]
  },
  {
   "cell_type": "code",
   "execution_count": null,
   "id": "34fd7948-3fc2-4bc5-a927-bc5533e50845",
   "metadata": {},
   "outputs": [],
   "source": [
    "def download_youtube_audio(url, out_dir=\".\", out_fname=None, best_quality=True):\n",
    "    \"Download the audio from a YouTube video\"\n",
    "    yt = YouTube(url)\n",
    "    if out_fname is None:\n",
    "        out_fname = os.path.join(out_dir, to_snake_case(yt.title) + \".mp4\")\n",
    "    yt = (yt.streams\n",
    "            .filter(only_audio=True, file_extension=\"mp4\")\n",
    "            .order_by(\"abr\"))\n",
    "    if best_quality:\n",
    "        yt = yt.desc()\n",
    "    else:\n",
    "        yt = yt.asc()\n",
    "    return yt.first().download(filename=out_fname)"
   ]
  },
  {
   "cell_type": "code",
   "execution_count": null,
   "id": "3bab1cf4",
   "metadata": {},
   "outputs": [],
   "source": [
    "def get_videos_info(url ):\n",
    "    data = dict()\n",
    "    \"get data for the app\"\n",
    "    yt = YouTube(url)\n",
    "    data['title'] = yt.title\n",
    "    data['description'] = yt.description\n",
    "    data['author'] = yt.author\n",
    "    data['url'] = url\n",
    "    return data"
   ]
  },
  {
   "cell_type": "code",
   "execution_count": null,
   "id": "bdf1c1ed-737a-4999-b631-80e445165d4d",
   "metadata": {},
   "outputs": [],
   "source": [
    "playlist_url = \"https://www.youtube.com/playlist?list=PLfYUBJiXbdtSvpQjSnJJ_PmDQB_VyT5iU\""
   ]
  },
  {
   "cell_type": "code",
   "execution_count": null,
   "id": "4a34aa67",
   "metadata": {},
   "outputs": [],
   "source": [
    "playlist = Playlist(playlist_url)"
   ]
  },
  {
   "cell_type": "code",
   "execution_count": null,
   "id": "f75d2adc",
   "metadata": {},
   "outputs": [],
   "source": [
    "info = [get_videos_info(url) for url in playlist]"
   ]
  },
  {
   "cell_type": "code",
   "execution_count": null,
   "id": "2f44857c",
   "metadata": {},
   "outputs": [
    {
     "data": {
      "text/html": [
       "<div>\n",
       "<style scoped>\n",
       "    .dataframe tbody tr th:only-of-type {\n",
       "        vertical-align: middle;\n",
       "    }\n",
       "\n",
       "    .dataframe tbody tr th {\n",
       "        vertical-align: top;\n",
       "    }\n",
       "\n",
       "    .dataframe thead th {\n",
       "        text-align: right;\n",
       "    }\n",
       "</style>\n",
       "<table border=\"1\" class=\"dataframe\">\n",
       "  <thead>\n",
       "    <tr style=\"text-align: right;\">\n",
       "      <th></th>\n",
       "      <th>title</th>\n",
       "      <th>description</th>\n",
       "      <th>author</th>\n",
       "      <th>url</th>\n",
       "    </tr>\n",
       "  </thead>\n",
       "  <tbody>\n",
       "    <tr>\n",
       "      <th>0</th>\n",
       "      <td>Lesson 1: Practical Deep Learning for Coders 2022</td>\n",
       "      <td>Go to https://course.fast.ai for code, noteboo...</td>\n",
       "      <td>Jeremy Howard</td>\n",
       "      <td>https://www.youtube.com/watch?v=8SF_h3xF3cE</td>\n",
       "    </tr>\n",
       "    <tr>\n",
       "      <th>1</th>\n",
       "      <td>Lesson 2: Practical Deep Learning for Coders 2022</td>\n",
       "      <td>00:00 - Introduction\\n00:55 - Reminder to use ...</td>\n",
       "      <td>Jeremy Howard</td>\n",
       "      <td>https://www.youtube.com/watch?v=F4tvM4Vb3A0</td>\n",
       "    </tr>\n",
       "    <tr>\n",
       "      <th>2</th>\n",
       "      <td>Lesson 3: Practical Deep Learning for Coders 2022</td>\n",
       "      <td>00:00 Introduction and survey\\n01:36 \"Lesson 0...</td>\n",
       "      <td>Jeremy Howard</td>\n",
       "      <td>https://www.youtube.com/watch?v=hBBOjCiFcuo</td>\n",
       "    </tr>\n",
       "    <tr>\n",
       "      <th>3</th>\n",
       "      <td>Lesson 4: Practical Deep Learning for Coders 2022</td>\n",
       "      <td>00:00:00 - Using Huggingface\\n00:03:24 - Finet...</td>\n",
       "      <td>Jeremy Howard</td>\n",
       "      <td>https://www.youtube.com/watch?v=toUgBQv1BT8</td>\n",
       "    </tr>\n",
       "    <tr>\n",
       "      <th>4</th>\n",
       "      <td>Lesson 5: Practical Deep Learning for Coders 2022</td>\n",
       "      <td>00:00:00 - Introduction\\n00:01:59 - Linear mod...</td>\n",
       "      <td>Jeremy Howard</td>\n",
       "      <td>https://www.youtube.com/watch?v=_rXzeWq4C6w</td>\n",
       "    </tr>\n",
       "    <tr>\n",
       "      <th>5</th>\n",
       "      <td>Lesson 6: Practical Deep Learning for Coders 2022</td>\n",
       "      <td>00:00 Review\\n02:09 TwoR model\\n04:43 How to c...</td>\n",
       "      <td>Jeremy Howard</td>\n",
       "      <td>https://www.youtube.com/watch?v=AdhG64NF76E</td>\n",
       "    </tr>\n",
       "    <tr>\n",
       "      <th>6</th>\n",
       "      <td>Lesson 7: Practical Deep Learning for Coders 2022</td>\n",
       "      <td>00:00 - Tweaking first and last layers\\n02:47 ...</td>\n",
       "      <td>Jeremy Howard</td>\n",
       "      <td>https://www.youtube.com/watch?v=p4ZZq0736Po</td>\n",
       "    </tr>\n",
       "    <tr>\n",
       "      <th>7</th>\n",
       "      <td>Lesson 8 - Practical Deep Learning for Coders ...</td>\n",
       "      <td>00:00 - Neural net from scratch\\n04:46 - Param...</td>\n",
       "      <td>Jeremy Howard</td>\n",
       "      <td>https://www.youtube.com/watch?v=htiNBPxcXgo</td>\n",
       "    </tr>\n",
       "  </tbody>\n",
       "</table>\n",
       "</div>"
      ],
      "text/plain": [
       "                                               title  \\\n",
       "0  Lesson 1: Practical Deep Learning for Coders 2022   \n",
       "1  Lesson 2: Practical Deep Learning for Coders 2022   \n",
       "2  Lesson 3: Practical Deep Learning for Coders 2022   \n",
       "3  Lesson 4: Practical Deep Learning for Coders 2022   \n",
       "4  Lesson 5: Practical Deep Learning for Coders 2022   \n",
       "5  Lesson 6: Practical Deep Learning for Coders 2022   \n",
       "6  Lesson 7: Practical Deep Learning for Coders 2022   \n",
       "7  Lesson 8 - Practical Deep Learning for Coders ...   \n",
       "\n",
       "                                         description         author  \\\n",
       "0  Go to https://course.fast.ai for code, noteboo...  Jeremy Howard   \n",
       "1  00:00 - Introduction\\n00:55 - Reminder to use ...  Jeremy Howard   \n",
       "2  00:00 Introduction and survey\\n01:36 \"Lesson 0...  Jeremy Howard   \n",
       "3  00:00:00 - Using Huggingface\\n00:03:24 - Finet...  Jeremy Howard   \n",
       "4  00:00:00 - Introduction\\n00:01:59 - Linear mod...  Jeremy Howard   \n",
       "5  00:00 Review\\n02:09 TwoR model\\n04:43 How to c...  Jeremy Howard   \n",
       "6  00:00 - Tweaking first and last layers\\n02:47 ...  Jeremy Howard   \n",
       "7  00:00 - Neural net from scratch\\n04:46 - Param...  Jeremy Howard   \n",
       "\n",
       "                                           url  \n",
       "0  https://www.youtube.com/watch?v=8SF_h3xF3cE  \n",
       "1  https://www.youtube.com/watch?v=F4tvM4Vb3A0  \n",
       "2  https://www.youtube.com/watch?v=hBBOjCiFcuo  \n",
       "3  https://www.youtube.com/watch?v=toUgBQv1BT8  \n",
       "4  https://www.youtube.com/watch?v=_rXzeWq4C6w  \n",
       "5  https://www.youtube.com/watch?v=AdhG64NF76E  \n",
       "6  https://www.youtube.com/watch?v=p4ZZq0736Po  \n",
       "7  https://www.youtube.com/watch?v=htiNBPxcXgo  "
      ]
     },
     "execution_count": null,
     "metadata": {},
     "output_type": "execute_result"
    }
   ],
   "source": [
    "pd.DataFrame(info)"
   ]
  },
  {
   "cell_type": "code",
   "execution_count": null,
   "id": "ef76daf9-b558-47be-9288-936a3fea48ee",
   "metadata": {},
   "outputs": [
    {
     "data": {
      "application/vnd.jupyter.widget-view+json": {
       "model_id": "583fa90520824adfbcb11da32f8c5280",
       "version_major": 2,
       "version_minor": 0
      },
      "text/plain": [
       "  0%|          | 0/8 [00:00<?, ?it/s]"
      ]
     },
     "metadata": {},
     "output_type": "display_data"
    }
   ],
   "source": [
    "for url in tqdm(playlist):\n",
    "    download_youtube_audio(url, out_dir=\"fastai_transcripts\")"
   ]
  },
  {
   "cell_type": "code",
   "execution_count": null,
   "id": "0f43c5ae",
   "metadata": {},
   "outputs": [],
   "source": [
    "file_path = Path('./fastai_transcripts/')"
   ]
  },
  {
   "cell_type": "code",
   "execution_count": null,
   "id": "30f23ef0",
   "metadata": {},
   "outputs": [],
   "source": [
    "def get_captions(infos: list):\n",
    "    data = []\n",
    "    for video in infos:\n",
    "        file = to_snake_case(video['title'])\n",
    "        vtt_file =  webvtt.read(file_path/f\"{file}.vtt\")\n",
    "        documents = []\n",
    "        for i, caption in tqdm(enumerate(vtt_file.captions)):\n",
    "            start = caption.start\n",
    "            start_in_s = caption.start_in_seconds\n",
    "            passage = \"\"\n",
    "            while len(passage.split(' ')) < 100 and i < len(vtt_file.captions)-1:\n",
    "                passage += \" \" + vtt_file.captions[i].raw_text\n",
    "                i += 1\n",
    "            documents.append({\n",
    "            'url':f\"{video['url']}&t={int(start_in_s)}s\",\n",
    "            'title':video['title'],\n",
    "            \"text\": passage,\n",
    "            \"start_second\": start_in_s,\n",
    "            \"end_second\": vtt_file.captions[i].end_in_seconds,\n",
    "            })\n",
    "        data.extend(documents)\n",
    "    return data"
   ]
  },
  {
   "cell_type": "code",
   "execution_count": null,
   "id": "4a75ec8d",
   "metadata": {},
   "outputs": [
    {
     "data": {
      "application/vnd.jupyter.widget-view+json": {
       "model_id": "b898c43b01ee49e2bbb69ac7062f58dd",
       "version_major": 2,
       "version_minor": 0
      },
      "text/plain": [
       "0it [00:00, ?it/s]"
      ]
     },
     "metadata": {},
     "output_type": "display_data"
    },
    {
     "data": {
      "application/vnd.jupyter.widget-view+json": {
       "model_id": "c5ba2311f58f40889f855c893e98102f",
       "version_major": 2,
       "version_minor": 0
      },
      "text/plain": [
       "0it [00:00, ?it/s]"
      ]
     },
     "metadata": {},
     "output_type": "display_data"
    },
    {
     "data": {
      "application/vnd.jupyter.widget-view+json": {
       "model_id": "f0012a80921a472cb51622f88996c703",
       "version_major": 2,
       "version_minor": 0
      },
      "text/plain": [
       "0it [00:00, ?it/s]"
      ]
     },
     "metadata": {},
     "output_type": "display_data"
    },
    {
     "data": {
      "application/vnd.jupyter.widget-view+json": {
       "model_id": "638b36fde7784d9ca367d51c5b3ffd72",
       "version_major": 2,
       "version_minor": 0
      },
      "text/plain": [
       "0it [00:00, ?it/s]"
      ]
     },
     "metadata": {},
     "output_type": "display_data"
    },
    {
     "data": {
      "application/vnd.jupyter.widget-view+json": {
       "model_id": "3a60204773da422893b3c0498e5cf373",
       "version_major": 2,
       "version_minor": 0
      },
      "text/plain": [
       "0it [00:00, ?it/s]"
      ]
     },
     "metadata": {},
     "output_type": "display_data"
    },
    {
     "data": {
      "application/vnd.jupyter.widget-view+json": {
       "model_id": "e90689039d724105b3eb9d13fca6b1f3",
       "version_major": 2,
       "version_minor": 0
      },
      "text/plain": [
       "0it [00:00, ?it/s]"
      ]
     },
     "metadata": {},
     "output_type": "display_data"
    },
    {
     "data": {
      "application/vnd.jupyter.widget-view+json": {
       "model_id": "5aec11cd0aa64be38bb36c320c8737ad",
       "version_major": 2,
       "version_minor": 0
      },
      "text/plain": [
       "0it [00:00, ?it/s]"
      ]
     },
     "metadata": {},
     "output_type": "display_data"
    },
    {
     "data": {
      "application/vnd.jupyter.widget-view+json": {
       "model_id": "9544c35d30304d7386a1d9ad86678d66",
       "version_major": 2,
       "version_minor": 0
      },
      "text/plain": [
       "0it [00:00, ?it/s]"
      ]
     },
     "metadata": {},
     "output_type": "display_data"
    }
   ],
   "source": [
    "all_cap = get_captions(info)"
   ]
  },
  {
   "cell_type": "code",
   "execution_count": null,
   "id": "c360c198",
   "metadata": {},
   "outputs": [
    {
     "data": {
      "text/plain": [
       "{'url': 'https://www.youtube.com/watch?v=8SF_h3xF3cE&t=6s',\n",
       " 'title': 'Lesson 1: Practical Deep Learning for Coders 2022',\n",
       " 'text': \"  This is version five of this course.  And it's the first do one we've done in two years.  So we've got a lot of cool things to cover.  It's amazing how much has changed.  Here is a XKCD from the end of 2015.  Who here is saying XKCD comics before?  Pretty much everybody, not surprising.  So the basic joke here is I'll let you read it,  and then I'll come back to it.  So it can be hard to tell what's easy and what's nearly impossible.  And in 2015 or at the end of 2015,\",\n",
       " 'start_second': 6.6,\n",
       " 'end_second': 61.0}"
      ]
     },
     "execution_count": null,
     "metadata": {},
     "output_type": "execute_result"
    }
   ],
   "source": [
    "all_cap[1]"
   ]
  },
  {
   "cell_type": "markdown",
   "id": "107cbad4",
   "metadata": {},
   "source": [
    "We will loop through all of these files to give us the initial core dataset consisting of *video_id*, *text*, *start_second*, *end_second*, and *url*."
   ]
  },
  {
   "cell_type": "code",
   "execution_count": null,
   "id": "4e96d5a1",
   "metadata": {},
   "outputs": [],
   "source": [
    "import json"
   ]
  },
  {
   "cell_type": "code",
   "execution_count": null,
   "id": "3af2d20e",
   "metadata": {},
   "outputs": [],
   "source": [
    "with open(\"train.jsonl\", \"w\") as f:\n",
    "    for doc in all_cap:\n",
    "        json.dump(doc, f)\n",
    "        f.write('\\n')"
   ]
  },
  {
   "cell_type": "code",
   "execution_count": null,
   "id": "6c7d22ff",
   "metadata": {},
   "outputs": [],
   "source": [
    "with open(\"train.jsonl\") as f:\n",
    "    d = f.readlines()"
   ]
  },
  {
   "cell_type": "code",
   "execution_count": null,
   "id": "94961c61-e217-445f-8f85-6df0b75e9002",
   "metadata": {},
   "outputs": [
    {
     "data": {
      "text/plain": [
       "['{\"url\": \"https://www.youtube.com/watch?v=8SF_h3xF3cE&t=0s\", \"title\": \"Lesson 1: Practical Deep Learning for Coders 2022\", \"text\": \"  Welcome to practical deep learning for coders lesson one.  This is version five of this course.  And it\\'s the first do one we\\'ve done in two years.  So we\\'ve got a lot of cool things to cover.  It\\'s amazing how much has changed.  Here is a XKCD from the end of 2015.  Who here is saying XKCD comics before?  Pretty much everybody, not surprising.  So the basic joke here is I\\'ll let you read it,  and then I\\'ll come back to it.  So it can be hard to tell what\\'s easy and what\\'s nearly impossible.\", \"start_second\": 0.0, \"end_second\": 58.0}\\n']"
      ]
     },
     "execution_count": null,
     "metadata": {},
     "output_type": "execute_result"
    }
   ],
   "source": [
    "d[:1]"
   ]
  },
  {
   "cell_type": "code",
   "execution_count": null,
   "id": "0ec42287",
   "metadata": {},
   "outputs": [],
   "source": []
  }
 ],
 "metadata": {
  "kernelspec": {
   "display_name": "Python 3 (ipykernel)",
   "language": "python",
   "name": "python3"
  }
 },
 "nbformat": 4,
 "nbformat_minor": 5
}

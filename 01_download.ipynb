{
 "cells": [
  {
   "cell_type": "code",
   "execution_count": 164,
   "id": "01f1a714-7532-4f65-9517-505a16320d4c",
   "metadata": {},
   "outputs": [],
   "source": [
    "import os\n",
    "from pytube import YouTube, Playlist\n",
    "from tqdm.notebook import tqdm\n",
    "playlist = Playlist(playlist_url)"
   ]
  },
  {
   "cell_type": "code",
   "execution_count": 160,
   "id": "817e03cd-4a42-44dc-b8c3-764b8436c110",
   "metadata": {},
   "outputs": [],
   "source": [
    "import re\n",
    "def to_snake_case(name):\n",
    "    return name.lower().replace(\" \", \"_\").replace(\":\", \"_\").replace(\"__\", \"_\")"
   ]
  },
  {
   "cell_type": "code",
   "execution_count": 162,
   "id": "34fd7948-3fc2-4bc5-a927-bc5533e50845",
   "metadata": {},
   "outputs": [],
   "source": [
    "def download_youtube_audio(url, out_dir=\".\", out_fname=None, best_quality=True):\n",
    "    \"Download the audio from a YouTube video\"\n",
    "    yt = YouTube(url)\n",
    "    if out_fname is None:\n",
    "        out_fname = os.path.join(out_dir, to_snake_case(yt.title) + \".mp4\")\n",
    "    yt = (yt.streams\n",
    "            .filter(only_audio=True, file_extension=\"mp4\")\n",
    "            .order_by(\"abr\"))\n",
    "    if best_quality:\n",
    "        yt = yt.desc()\n",
    "    else:\n",
    "        yt = yt.asc()\n",
    "    return yt.first().download(filename=out_fname)"
   ]
  },
  {
   "cell_type": "code",
   "execution_count": 165,
   "id": "bdf1c1ed-737a-4999-b631-80e445165d4d",
   "metadata": {},
   "outputs": [],
   "source": [
    "playlist_url = \"https://www.youtube.com/playlist?list=PLfYUBJiXbdtSvpQjSnJJ_PmDQB_VyT5iU\""
   ]
  },
  {
   "cell_type": "code",
   "execution_count": 166,
   "id": "ef76daf9-b558-47be-9288-936a3fea48ee",
   "metadata": {},
   "outputs": [
    {
     "data": {
      "application/vnd.jupyter.widget-view+json": {
       "model_id": "583fa90520824adfbcb11da32f8c5280",
       "version_major": 2,
       "version_minor": 0
      },
      "text/plain": [
       "  0%|          | 0/8 [00:00<?, ?it/s]"
      ]
     },
     "metadata": {},
     "output_type": "display_data"
    }
   ],
   "source": [
    "for url in tqdm(playlist):\n",
    "    download_youtube_audio(url, out_dir=\"fastai_transcripts\")"
   ]
  },
  {
   "cell_type": "code",
   "execution_count": 168,
   "id": "152caffc-73e9-4712-9d29-4d66b882cb27",
   "metadata": {},
   "outputs": [
    {
     "data": {
      "text/plain": [
       "'/home/tcapelle/wandb/whisper/pastry.mp4'"
      ]
     },
     "execution_count": 168,
     "metadata": {},
     "output_type": "execute_result"
    }
   ],
   "source": [
    "download_youtube_audio(\"https://www.youtube.com/watch?v=Gh2HnhO2JS0\", out_fname=\"pastry.mp4\")"
   ]
  },
  {
   "cell_type": "code",
   "execution_count": null,
   "id": "94961c61-e217-445f-8f85-6df0b75e9002",
   "metadata": {},
   "outputs": [],
   "source": []
  }
 ],
 "metadata": {
  "kernelspec": {
   "display_name": "Python 3 (ipykernel)",
   "language": "python",
   "name": "python3"
  },
  "language_info": {
   "codemirror_mode": {
    "name": "ipython",
    "version": 3
   },
   "file_extension": ".py",
   "mimetype": "text/x-python",
   "name": "python",
   "nbconvert_exporter": "python",
   "pygments_lexer": "ipython3",
   "version": "3.10.4"
  }
 },
 "nbformat": 4,
 "nbformat_minor": 5
}
